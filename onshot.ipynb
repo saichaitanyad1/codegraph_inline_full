{
 "cells": [
  {
   "cell_type": "code",
   "execution_count": 32,
   "id": "892c1ef1",
   "metadata": {},
   "outputs": [
    {
     "name": "stdout",
     "output_type": "stream",
     "text": [
      "addProduct [{'name': '@PostMapping', 'full': '@PostMapping(/addingProduct)', 'args': {'value_list': ['/addingProduct'], 'value': '/addingProduct'}}] {'methods': ['POST'], 'paths': ['/addingProduct'], 'consumes': [], 'produces': [], 'params': [], 'headers': [], 'name': None}\n",
      "updateProduct [{'name': '@GetMapping', 'full': '@GetMapping(/updatingProduct/{productId})', 'args': {'value_list': ['/updatingProduct/{productId}'], 'value': '/updatingProduct/{productId}'}}] {'methods': ['GET'], 'paths': ['/updatingProduct/{productId}'], 'consumes': [], 'produces': [], 'params': [], 'headers': [], 'name': None}\n",
      "delete [{'name': '@GetMapping', 'full': '@GetMapping(/deleteProduct/{productId})', 'args': {'value_list': ['/deleteProduct/{productId}'], 'value': '/deleteProduct/{productId}'}}] {'methods': ['GET'], 'paths': ['/deleteProduct/{productId}'], 'consumes': [], 'produces': [], 'params': [], 'headers': [], 'name': None}\n"
     ]
    }
   ],
   "source": [
    "import javalang\n",
    "from codegraph.java_parser_copy import _anno_details, _extract_http_basic, _anno_kv\n",
    "\n",
    "\n",
    "src = r'''\n",
    "package com.example.demo.controllers;\n",
    "import org.springframework.stereotype.Controller;\n",
    "import org.springframework.web.bind.annotation.*;\n",
    "@Controller\n",
    "public class ProductController {\n",
    "  @PostMapping(\"/addingProduct\")\n",
    "  public String addProduct(@ModelAttribute Product product) { return \"ok\"; }\n",
    "  @GetMapping(\"/updatingProduct/{productId}\")\n",
    "  public String updateProduct(@ModelAttribute Product product, @PathVariable(\"productId\") int id) { return \"ok\"; }\n",
    "  @GetMapping(\"/deleteProduct/{productId}\")\n",
    "  public String delete(@PathVariable(\"productId\") int id) { return \"ok\"; }\n",
    "}\n",
    "'''\n",
    "tree = javalang.parse.parse(src)\n",
    "for t in tree.types:\n",
    "    for m in t.methods:\n",
    "        md = [_anno_details(a) for a in (m.annotations or [])]\n",
    "        print(m.name, md, _extract_http_basic(md))\n"
   ]
  },
  {
   "cell_type": "code",
   "execution_count": 2,
   "id": "e15d85be",
   "metadata": {},
   "outputs": [
    {
     "name": "stdout",
     "output_type": "stream",
     "text": [
      "[CodeGraph] Loaded java-parser-treesitter:ast-http-v3 (bindings-only, no tree_sitter_languages)\n"
     ]
    },
    {
     "ename": "NameError",
     "evalue": "name '__file__' is not defined",
     "output_type": "error",
     "traceback": [
      "\u001b[31m---------------------------------------------------------------------------\u001b[39m",
      "\u001b[31mNameError\u001b[39m                                 Traceback (most recent call last)",
      "\u001b[36mCell\u001b[39m\u001b[36m \u001b[39m\u001b[32mIn[2]\u001b[39m\u001b[32m, line 87\u001b[39m\n\u001b[32m     81\u001b[39m     \u001b[38;5;28;01mraise\u001b[39;00m \u001b[38;5;167;01mRuntimeError\u001b[39;00m(\n\u001b[32m     82\u001b[39m         \u001b[33m\"\u001b[39m\u001b[33mUnable to obtain Tree-sitter Java Language. Install one of: \u001b[39m\u001b[33m\"\u001b[39m\n\u001b[32m     83\u001b[39m         \u001b[33m\"\u001b[39m\u001b[33m(a) tree-sitter-java, (b) tree-sitter-pack, (c) set TREE_SITTER_JAVA_LIB, or (d) vendor grammar.\u001b[39m\u001b[33m\"\u001b[39m\n\u001b[32m     84\u001b[39m     )\n\u001b[32m     86\u001b[39m \u001b[38;5;66;03m# Initialize the Parser with whichever Language we resolved\u001b[39;00m\n\u001b[32m---> \u001b[39m\u001b[32m87\u001b[39m _JAVA_LANGUAGE = \u001b[43m_get_java_language\u001b[49m\u001b[43m(\u001b[49m\u001b[43m)\u001b[49m\n\u001b[32m     88\u001b[39m _PARSER = Parser()\n\u001b[32m     89\u001b[39m _PARSER.set_language(_JAVA_LANGUAGE)\n",
      "\u001b[36mCell\u001b[39m\u001b[36m \u001b[39m\u001b[32mIn[2]\u001b[39m\u001b[32m, line 65\u001b[39m, in \u001b[36m_get_java_language\u001b[39m\u001b[34m()\u001b[39m\n\u001b[32m     62\u001b[39m         \u001b[38;5;28mprint\u001b[39m(\u001b[33m\"\u001b[39m\u001b[33m[CodeGraph] Failed to load TREE_SITTER_JAVA_LIB:\u001b[39m\u001b[33m\"\u001b[39m, e)\n\u001b[32m     64\u001b[39m \u001b[38;5;66;03m# 4) Build from vendor checkout (optional)\u001b[39;00m\n\u001b[32m---> \u001b[39m\u001b[32m65\u001b[39m vendor_dir = os.path.join(os.path.dirname(\u001b[34;43m__file__\u001b[39;49m), \u001b[33m\"\u001b[39m\u001b[33mvendor\u001b[39m\u001b[33m\"\u001b[39m, \u001b[33m\"\u001b[39m\u001b[33mtree-sitter-java\u001b[39m\u001b[33m\"\u001b[39m)\n\u001b[32m     66\u001b[39m \u001b[38;5;28;01mif\u001b[39;00m os.path.isdir(vendor_dir):\n\u001b[32m     67\u001b[39m     \u001b[38;5;28;01mtry\u001b[39;00m:\n",
      "\u001b[31mNameError\u001b[39m: name '__file__' is not defined"
     ]
    }
   ],
   "source": [
    "from __future__ import annotations\n",
    "from typing import List, Tuple, Dict, Any, Optional\n",
    "\n",
    "import os\n",
    "\n",
    "# Base Tree-sitter bindings\n",
    "from tree_sitter import Language, Parser\n",
    "\n",
    "\n",
    "# ============================================================\n",
    "# Signature / runtime banner\n",
    "# ============================================================\n",
    "SIGNATURE = \"java-parser-treesitter:ast-http-v3 (bindings-only, no tree_sitter_languages)\"\n",
    "print(f\"[CodeGraph] Loaded {SIGNATURE}\")\n",
    "\n",
    "# ============================================================\n",
    "# How we obtain a Java Language\n",
    "# Tries, in order:\n",
    "#   1) tree_sitter_java (preferred)\n",
    "#   2) tree_sitter_pack (if available)\n",
    "#   3) prebuilt .so/.dll path via TREE_SITTER_JAVA_LIB\n",
    "#   4) optional build from vendor/tree-sitter-java (if present)\n",
    "# ============================================================\n",
    "\n",
    "def _get_java_language() -> Language:\n",
    "    # 1) tree_sitter_java package\n",
    "    try:\n",
    "        # Several variants exist. We try common ones.\n",
    "        import tree_sitter_java  # type: ignore\n",
    "        # Some dists expose LANGUAGE directly\n",
    "        lang = getattr(tree_sitter_java, \"LANGUAGE\", None)\n",
    "        if isinstance(lang, Language):\n",
    "            return lang\n",
    "        # Some expose a factory function\n",
    "        for candidate in (\"language\", \"get_language\", \"java\"):\n",
    "            fn = getattr(tree_sitter_java, candidate, None)\n",
    "            if callable(fn):\n",
    "                lang = fn()\n",
    "                if isinstance(lang, Language):\n",
    "                    return lang\n",
    "        # Some expose a path to buildable grammar sources; try build if vendor not needed\n",
    "    except Exception:\n",
    "        pass\n",
    "\n",
    "    # 2) tree_sitter_pack (bundle with get_language)\n",
    "    try:\n",
    "        import tree_sitter_pack  # type: ignore\n",
    "        get_language = getattr(tree_sitter_pack, \"get_language\", None)\n",
    "        if callable(get_language):\n",
    "            lang = get_language(\"java\")\n",
    "            if isinstance(lang, Language):\n",
    "                return lang\n",
    "    except Exception:\n",
    "        pass\n",
    "\n",
    "    # 3) Prebuilt shared lib via env var\n",
    "    lib_path = os.getenv(\"TREE_SITTER_JAVA_LIB\")\n",
    "    if lib_path and os.path.exists(lib_path):\n",
    "        try:\n",
    "            return Language(lib_path, \"java\")\n",
    "        except Exception as e:\n",
    "            print(\"[CodeGraph] Failed to load TREE_SITTER_JAVA_LIB:\", e)\n",
    "\n",
    "    # 4) Build from vendor checkout (optional)\n",
    "    vendor_dir = os.path.join(os.path.dirname(__file__), \"vendor\", \"tree-sitter-java\")\n",
    "    if os.path.isdir(vendor_dir):\n",
    "        try:\n",
    "            build_dir = os.path.join(\"/Users/saichaitanyadarla/Downloads/codegraph_inline_full\", \"vendor\", \"build\")\n",
    "            os.makedirs(\"build_dir\", exist_ok=True)\n",
    "            lib_file = os.path.join(build_dir, \"java-languages.so\")\n",
    "            # Build only once\n",
    "            if not os.path.exists(lib_file):\n",
    "                Language.build_library(\n",
    "                    lib_file,\n",
    "                    [vendor_dir],  # expects parser.c and scanner.c in src/\n",
    "                )\n",
    "            return Language(lib_file, \"java\")\n",
    "        except Exception as e:\n",
    "            print(\"[CodeGraph] Vendor build failed:\", e)\n",
    "\n",
    "    raise RuntimeError(\n",
    "        \"Unable to obtain Tree-sitter Java Language. Install one of: \"\n",
    "        \"(a) tree-sitter-java, (b) tree-sitter-pack, (c) set TREE_SITTER_JAVA_LIB, or (d) vendor grammar.\"\n",
    "    )\n",
    "\n",
    "# Initialize the Parser with whichever Language we resolved\n",
    "_JAVA_LANGUAGE = _get_java_language()\n",
    "_PARSER = Parser()\n",
    "_PARSER.set_language(_JAVA_LANGUAGE)\n",
    "\n",
    "# ============================================================\n",
    "# HTTP mapping registry (centralized)\n",
    "# ============================================================\n",
    "_HTTP_MAP = {\n",
    "    \"@GetMapping\": \"GET\",\n",
    "    \"@PostMapping\": \"POST\",\n",
    "    \"@PutMapping\": \"PUT\",\n",
    "    \"@DeleteMapping\": \"DELETE\",\n",
    "    \"@PatchMapping\": \"PATCH\",\n",
    "}\n",
    "_REQUEST_METHOD_PREFIX = \"RequestMethod.\"\n",
    "\n"
   ]
  },
  {
   "cell_type": "code",
   "execution_count": null,
   "id": "40b31950",
   "metadata": {},
   "outputs": [
    {
     "name": "stdout",
     "output_type": "stream",
     "text": [
      "addProduct [{'name': '@PostMapping', 'full': '@PostMapping(/addingProduct)', 'args': {'value_list': ['/addingProduct'], 'value': '/addingProduct'}}] {'methods': ['POST'], 'paths': ['/addingProduct'], 'consumes': [], 'produces': [], 'params': [], 'headers': [], 'name': None}\n",
      "updateProduct [{'name': '@GetMapping', 'full': '@GetMapping(/updatingProduct/{productId})', 'args': {'value_list': ['/updatingProduct/{productId}'], 'value': '/updatingProduct/{productId}'}}] {'methods': ['GET'], 'paths': ['/updatingProduct/{productId}'], 'consumes': [], 'produces': [], 'params': [], 'headers': [], 'name': None}\n",
      "delete [{'name': '@GetMapping', 'full': '@GetMapping(/deleteProduct/{productId})', 'args': {'value_list': ['/deleteProduct/{productId}'], 'value': '/deleteProduct/{productId}'}}] {'methods': ['GET'], 'paths': ['/deleteProduct/{productId}'], 'consumes': [], 'produces': [], 'params': [], 'headers': [], 'name': None}\n"
     ]
    }
   ],
   "source": [
    "import javalang\n",
    "from codegraph.java_parser_copy import _anno_details, _extract_http_basic, _anno_kv\n",
    "\n",
    "\n",
    "src = r'''\n",
    "package com.example.demo.controllers;\n",
    "import org.springframework.stereotype.Controller;\n",
    "import org.springframework.web.bind.annotation.*;\n",
    "@Controller\n",
    "public class ProductController {\n",
    "  @PostMapping(\"/addingProduct\")\n",
    "  public String addProduct(@ModelAttribute Product product) { return \"ok\"; }\n",
    "  @GetMapping(\"/updatingProduct/{productId}\")\n",
    "  public String updateProduct(@ModelAttribute Product product, @PathVariable(\"productId\") int id) { return \"ok\"; }\n",
    "  @GetMapping(\"/deleteProduct/{productId}\")\n",
    "  public String delete(@PathVariable(\"productId\") int id) { return \"ok\"; }\n",
    "}\n",
    "'''\n",
    "tree = javalang.parse.parse(src)\n",
    "for t in tree.types:\n",
    "    for m in t.methods:\n",
    "        md = [_anno_details(a) for a in (m.annotations or [])]\n",
    "        print(m.name, md, _extract_http_basic(md))\n"
   ]
  },
  {
   "cell_type": "code",
   "execution_count": null,
   "id": "1cd6f9e5",
   "metadata": {},
   "outputs": [
    {
     "name": "stdout",
     "output_type": "stream",
     "text": [
      "addProduct [{'name': '@PostMapping', 'full': '@PostMapping(/addingProduct)', 'args': {'value_list': ['/addingProduct'], 'value': '/addingProduct'}}] {'methods': ['POST'], 'paths': ['/addingProduct'], 'consumes': [], 'produces': [], 'params': [], 'headers': [], 'name': None}\n",
      "updateProduct [{'name': '@GetMapping', 'full': '@GetMapping(/updatingProduct/{productId})', 'args': {'value_list': ['/updatingProduct/{productId}'], 'value': '/updatingProduct/{productId}'}}] {'methods': ['GET'], 'paths': ['/updatingProduct/{productId}'], 'consumes': [], 'produces': [], 'params': [], 'headers': [], 'name': None}\n",
      "delete [{'name': '@GetMapping', 'full': '@GetMapping(/deleteProduct/{productId})', 'args': {'value_list': ['/deleteProduct/{productId}'], 'value': '/deleteProduct/{productId}'}}] {'methods': ['GET'], 'paths': ['/deleteProduct/{productId}'], 'consumes': [], 'produces': [], 'params': [], 'headers': [], 'name': None}\n"
     ]
    }
   ],
   "source": [
    "import javalang\n",
    "from codegraph.java_parser_copy import _anno_details, _extract_http_basic, _anno_kv\n",
    "\n",
    "\n",
    "src = r'''\n",
    "package com.example.demo.controllers;\n",
    "import org.springframework.stereotype.Controller;\n",
    "import org.springframework.web.bind.annotation.*;\n",
    "@Controller\n",
    "public class ProductController {\n",
    "  @PostMapping(\"/addingProduct\")\n",
    "  public String addProduct(@ModelAttribute Product product) { return \"ok\"; }\n",
    "  @GetMapping(\"/updatingProduct/{productId}\")\n",
    "  public String updateProduct(@ModelAttribute Product product, @PathVariable(\"productId\") int id) { return \"ok\"; }\n",
    "  @GetMapping(\"/deleteProduct/{productId}\")\n",
    "  public String delete(@PathVariable(\"productId\") int id) { return \"ok\"; }\n",
    "}\n",
    "'''\n",
    "tree = javalang.parse.parse(src)\n",
    "for t in tree.types:\n",
    "    for m in t.methods:\n",
    "        md = [_anno_details(a) for a in (m.annotations or [])]\n",
    "        print(m.name, md, _extract_http_basic(md))\n"
   ]
  },
  {
   "cell_type": "code",
   "execution_count": null,
   "id": "035f25b0",
   "metadata": {},
   "outputs": [
    {
     "name": "stdout",
     "output_type": "stream",
     "text": [
      "addProduct [{'name': '@PostMapping', 'full': '@PostMapping(/addingProduct)', 'args': {'value_list': ['/addingProduct'], 'value': '/addingProduct'}}] {'methods': ['POST'], 'paths': ['/addingProduct'], 'consumes': [], 'produces': [], 'params': [], 'headers': [], 'name': None}\n",
      "updateProduct [{'name': '@GetMapping', 'full': '@GetMapping(/updatingProduct/{productId})', 'args': {'value_list': ['/updatingProduct/{productId}'], 'value': '/updatingProduct/{productId}'}}] {'methods': ['GET'], 'paths': ['/updatingProduct/{productId}'], 'consumes': [], 'produces': [], 'params': [], 'headers': [], 'name': None}\n",
      "delete [{'name': '@GetMapping', 'full': '@GetMapping(/deleteProduct/{productId})', 'args': {'value_list': ['/deleteProduct/{productId}'], 'value': '/deleteProduct/{productId}'}}] {'methods': ['GET'], 'paths': ['/deleteProduct/{productId}'], 'consumes': [], 'produces': [], 'params': [], 'headers': [], 'name': None}\n"
     ]
    }
   ],
   "source": [
    "import javalang\n",
    "from codegraph.java_parser_copy import _anno_details, _extract_http_basic, _anno_kv\n",
    "\n",
    "\n",
    "src = r'''\n",
    "package com.example.demo.controllers;\n",
    "import org.springframework.stereotype.Controller;\n",
    "import org.springframework.web.bind.annotation.*;\n",
    "@Controller\n",
    "public class ProductController {\n",
    "  @PostMapping(\"/addingProduct\")\n",
    "  public String addProduct(@ModelAttribute Product product) { return \"ok\"; }\n",
    "  @GetMapping(\"/updatingProduct/{productId}\")\n",
    "  public String updateProduct(@ModelAttribute Product product, @PathVariable(\"productId\") int id) { return \"ok\"; }\n",
    "  @GetMapping(\"/deleteProduct/{productId}\")\n",
    "  public String delete(@PathVariable(\"productId\") int id) { return \"ok\"; }\n",
    "}\n",
    "'''\n",
    "tree = javalang.parse.parse(src)\n",
    "for t in tree.types:\n",
    "    for m in t.methods:\n",
    "        md = [_anno_details(a) for a in (m.annotations or [])]\n",
    "        print(m.name, md, _extract_http_basic(md))\n"
   ]
  },
  {
   "cell_type": "code",
   "execution_count": 24,
   "id": "f44cf5e3",
   "metadata": {},
   "outputs": [
    {
     "name": "stdout",
     "output_type": "stream",
     "text": [
      "Type: ProductController\n",
      "  Method: addProduct\n",
      "@PostMapping member= None value= None element= Literal(postfix_operators=[], prefix_operators=[], qualifier=None, selectors=[], value=\"/addingProduct\")\n",
      "  Method: updateProduct\n",
      "@GetMapping member= None value= None element= Literal(postfix_operators=[], prefix_operators=[], qualifier=None, selectors=[], value=\"/updatingProduct/{productId}\")\n",
      "  Method: delete\n",
      "@GetMapping member= None value= None element= Literal(postfix_operators=[], prefix_operators=[], qualifier=None, selectors=[], value=\"/deleteProduct/{productId}\")\n"
     ]
    }
   ],
   "source": [
    "import javalang, sys\n",
    "src = open(\"/Users/saichaitanyadarla/Documents/java/FoodFrenzy/src/main/java/com/example/demo/controllers/ProductController.java\").read()\n",
    "tree = javalang.parse.parse(src)\n",
    "\n",
    "for t in tree.types:\n",
    "    print(\"Type:\", t.name)\n",
    "    for m in getattr(t, \"methods\", []):\n",
    "        print(\"  Method:\", m.name)\n",
    "        for a in (m.annotations or []):\n",
    "            print(\"@\" + getattr(a, \"name\", \"?\"),\n",
    "                  \"member=\", getattr(a, \"member\", None),\n",
    "                  \"value=\", getattr(a, \"value\", None),\n",
    "                  \"element=\", getattr(a, \"element\", None))\n"
   ]
  }
 ],
 "metadata": {
  "kernelspec": {
   "display_name": ".venv",
   "language": "python",
   "name": "python3"
  },
  "language_info": {
   "codemirror_mode": {
    "name": "ipython",
    "version": 3
   },
   "file_extension": ".py",
   "mimetype": "text/x-python",
   "name": "python",
   "nbconvert_exporter": "python",
   "pygments_lexer": "ipython3",
   "version": "3.13.6"
  }
 },
 "nbformat": 4,
 "nbformat_minor": 5
}
