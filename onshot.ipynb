{
 "cells": [
  {
   "cell_type": "code",
   "execution_count": 32,
   "id": "892c1ef1",
   "metadata": {},
   "outputs": [
    {
     "name": "stdout",
     "output_type": "stream",
     "text": [
      "addProduct [{'name': '@PostMapping', 'full': '@PostMapping(/addingProduct)', 'args': {'value_list': ['/addingProduct'], 'value': '/addingProduct'}}] {'methods': ['POST'], 'paths': ['/addingProduct'], 'consumes': [], 'produces': [], 'params': [], 'headers': [], 'name': None}\n",
      "updateProduct [{'name': '@GetMapping', 'full': '@GetMapping(/updatingProduct/{productId})', 'args': {'value_list': ['/updatingProduct/{productId}'], 'value': '/updatingProduct/{productId}'}}] {'methods': ['GET'], 'paths': ['/updatingProduct/{productId}'], 'consumes': [], 'produces': [], 'params': [], 'headers': [], 'name': None}\n",
      "delete [{'name': '@GetMapping', 'full': '@GetMapping(/deleteProduct/{productId})', 'args': {'value_list': ['/deleteProduct/{productId}'], 'value': '/deleteProduct/{productId}'}}] {'methods': ['GET'], 'paths': ['/deleteProduct/{productId}'], 'consumes': [], 'produces': [], 'params': [], 'headers': [], 'name': None}\n"
     ]
    }
   ],
   "source": [
    "import javalang\n",
    "from codegraph.java_parser_copy import _anno_details, _extract_http_basic, _anno_kv\n",
    "\n",
    "\n",
    "src = r'''\n",
    "package com.example.demo.controllers;\n",
    "import org.springframework.stereotype.Controller;\n",
    "import org.springframework.web.bind.annotation.*;\n",
    "@Controller\n",
    "public class ProductController {\n",
    "  @PostMapping(\"/addingProduct\")\n",
    "  public String addProduct(@ModelAttribute Product product) { return \"ok\"; }\n",
    "  @GetMapping(\"/updatingProduct/{productId}\")\n",
    "  public String updateProduct(@ModelAttribute Product product, @PathVariable(\"productId\") int id) { return \"ok\"; }\n",
    "  @GetMapping(\"/deleteProduct/{productId}\")\n",
    "  public String delete(@PathVariable(\"productId\") int id) { return \"ok\"; }\n",
    "}\n",
    "'''\n",
    "tree = javalang.parse.parse(src)\n",
    "for t in tree.types:\n",
    "    for m in t.methods:\n",
    "        md = [_anno_details(a) for a in (m.annotations or [])]\n",
    "        print(m.name, md, _extract_http_basic(md))\n"
   ]
  },
  {
   "cell_type": "code",
   "execution_count": 18,
   "id": "e15d85be",
   "metadata": {},
   "outputs": [
    {
     "name": "stdout",
     "output_type": "stream",
     "text": [
      "javalang: 0.13.0\n",
      "USING PARSER FILE: /Users/saichaitanyadarla/Downloads/codegraph_inline_full/codegraph/java_parser.py\n",
      "PYTHONPATH head: ['/Library/Frameworks/Python.framework/Versions/3.13/lib/python313.zip', '/Library/Frameworks/Python.framework/Versions/3.13/lib/python3.13', '/Library/Frameworks/Python.framework/Versions/3.13/lib/python3.13/lib-dynload']\n"
     ]
    },
    {
     "ename": "TokenError",
     "evalue": "('EOF in multi-line string', (105, 5))",
     "output_type": "error",
     "traceback": [
      "\u001b[31m---------------------------------------------------------------------------\u001b[39m",
      "\u001b[31mTokenError\u001b[39m                                Traceback (most recent call last)",
      "\u001b[36mCell\u001b[39m\u001b[36m \u001b[39m\u001b[32mIn[18]\u001b[39m\u001b[32m, line 9\u001b[39m\n\u001b[32m      6\u001b[39m \u001b[38;5;28mprint\u001b[39m(\u001b[33m\"\u001b[39m\u001b[33mPYTHONPATH head:\u001b[39m\u001b[33m\"\u001b[39m, sys.path[:\u001b[32m3\u001b[39m])\n\u001b[32m      8\u001b[39m \u001b[38;5;66;03m# Show the first lines of the helper you just edited\u001b[39;00m\n\u001b[32m----> \u001b[39m\u001b[32m9\u001b[39m \u001b[38;5;28mprint\u001b[39m(\u001b[33m\"\u001b[39m\u001b[33mKV HEAD:\u001b[39m\u001b[33m\"\u001b[39m, \u001b[43minspect\u001b[49m\u001b[43m.\u001b[49m\u001b[43mgetsource\u001b[49m\u001b[43m(\u001b[49m\u001b[43mjp\u001b[49m\u001b[43m.\u001b[49m\u001b[43m_anno_kv\u001b[49m\u001b[43m)\u001b[49m.splitlines()[:\u001b[32m8\u001b[39m])\n\u001b[32m     11\u001b[39m \u001b[38;5;66;03m# Optional: add a signature string in your file and read it\u001b[39;00m\n\u001b[32m     12\u001b[39m \u001b[38;5;28mprint\u001b[39m(\u001b[33m\"\u001b[39m\u001b[33mSIGNATURE:\u001b[39m\u001b[33m\"\u001b[39m, \u001b[38;5;28mgetattr\u001b[39m(jp, \u001b[33m\"\u001b[39m\u001b[33mSIGNATURE\u001b[39m\u001b[33m\"\u001b[39m, \u001b[33m\"\u001b[39m\u001b[33m<none>\u001b[39m\u001b[33m\"\u001b[39m))\n",
      "\u001b[36mFile \u001b[39m\u001b[32m/Library/Frameworks/Python.framework/Versions/3.13/lib/python3.13/inspect.py:1258\u001b[39m, in \u001b[36mgetsource\u001b[39m\u001b[34m(object)\u001b[39m\n\u001b[32m   1252\u001b[39m \u001b[38;5;28;01mdef\u001b[39;00m\u001b[38;5;250m \u001b[39m\u001b[34mgetsource\u001b[39m(\u001b[38;5;28mobject\u001b[39m):\n\u001b[32m   1253\u001b[39m \u001b[38;5;250m    \u001b[39m\u001b[33;03m\"\"\"Return the text of the source code for an object.\u001b[39;00m\n\u001b[32m   1254\u001b[39m \n\u001b[32m   1255\u001b[39m \u001b[33;03m    The argument may be a module, class, method, function, traceback, frame,\u001b[39;00m\n\u001b[32m   1256\u001b[39m \u001b[33;03m    or code object.  The source code is returned as a single string.  An\u001b[39;00m\n\u001b[32m   1257\u001b[39m \u001b[33;03m    OSError is raised if the source code cannot be retrieved.\"\"\"\u001b[39;00m\n\u001b[32m-> \u001b[39m\u001b[32m1258\u001b[39m     lines, lnum = \u001b[43mgetsourcelines\u001b[49m\u001b[43m(\u001b[49m\u001b[38;5;28;43mobject\u001b[39;49m\u001b[43m)\u001b[49m\n\u001b[32m   1259\u001b[39m     \u001b[38;5;28;01mreturn\u001b[39;00m \u001b[33m'\u001b[39m\u001b[33m'\u001b[39m.join(lines)\n",
      "\u001b[36mFile \u001b[39m\u001b[32m/Library/Frameworks/Python.framework/Versions/3.13/lib/python3.13/inspect.py:1250\u001b[39m, in \u001b[36mgetsourcelines\u001b[39m\u001b[34m(object)\u001b[39m\n\u001b[32m   1248\u001b[39m     \u001b[38;5;28;01mreturn\u001b[39;00m lines, \u001b[32m0\u001b[39m\n\u001b[32m   1249\u001b[39m \u001b[38;5;28;01melse\u001b[39;00m:\n\u001b[32m-> \u001b[39m\u001b[32m1250\u001b[39m     \u001b[38;5;28;01mreturn\u001b[39;00m \u001b[43mgetblock\u001b[49m\u001b[43m(\u001b[49m\u001b[43mlines\u001b[49m\u001b[43m[\u001b[49m\u001b[43mlnum\u001b[49m\u001b[43m:\u001b[49m\u001b[43m]\u001b[49m\u001b[43m)\u001b[49m, lnum + \u001b[32m1\u001b[39m\n",
      "\u001b[36mFile \u001b[39m\u001b[32m/Library/Frameworks/Python.framework/Versions/3.13/lib/python3.13/inspect.py:1217\u001b[39m, in \u001b[36mgetblock\u001b[39m\u001b[34m(lines)\u001b[39m\n\u001b[32m   1215\u001b[39m \u001b[38;5;28;01mtry\u001b[39;00m:\n\u001b[32m   1216\u001b[39m     tokens = tokenize.generate_tokens(\u001b[38;5;28miter\u001b[39m(lines).\u001b[34m__next__\u001b[39m)\n\u001b[32m-> \u001b[39m\u001b[32m1217\u001b[39m \u001b[43m    \u001b[49m\u001b[38;5;28;43;01mfor\u001b[39;49;00m\u001b[43m \u001b[49m\u001b[43m_token\u001b[49m\u001b[43m \u001b[49m\u001b[38;5;129;43;01min\u001b[39;49;00m\u001b[43m \u001b[49m\u001b[43mtokens\u001b[49m\u001b[43m:\u001b[49m\n\u001b[32m   1218\u001b[39m \u001b[43m        \u001b[49m\u001b[43mblockfinder\u001b[49m\u001b[43m.\u001b[49m\u001b[43mtokeneater\u001b[49m\u001b[43m(\u001b[49m\u001b[43m*\u001b[49m\u001b[43m_token\u001b[49m\u001b[43m)\u001b[49m\n\u001b[32m   1219\u001b[39m \u001b[38;5;28;01mexcept\u001b[39;00m (EndOfBlock, \u001b[38;5;167;01mIndentationError\u001b[39;00m):\n",
      "\u001b[36mFile \u001b[39m\u001b[32m/Library/Frameworks/Python.framework/Versions/3.13/lib/python3.13/tokenize.py:588\u001b[39m, in \u001b[36m_generate_tokens_from_c_tokenizer\u001b[39m\u001b[34m(source, encoding, extra_tokens)\u001b[39m\n\u001b[32m    586\u001b[39m     \u001b[38;5;28;01mraise\u001b[39;00m e \u001b[38;5;28;01mfrom\u001b[39;00m\u001b[38;5;250m \u001b[39m\u001b[38;5;28;01mNone\u001b[39;00m\n\u001b[32m    587\u001b[39m msg = _transform_msg(e.msg)\n\u001b[32m--> \u001b[39m\u001b[32m588\u001b[39m \u001b[38;5;28;01mraise\u001b[39;00m TokenError(msg, (e.lineno, e.offset)) \u001b[38;5;28;01mfrom\u001b[39;00m\u001b[38;5;250m \u001b[39m\u001b[38;5;28;01mNone\u001b[39;00m\n",
      "\u001b[31mTokenError\u001b[39m: ('EOF in multi-line string', (105, 5))"
     ]
    }
   ],
   "source": [
    "import sys, inspect, importlib, javalang\n",
    "import codegraph.java_parser as jp\n",
    "\n",
    "print(\"javalang:\", javalang.__version__)\n",
    "print(\"USING PARSER FILE:\", jp.__file__)\n",
    "print(\"PYTHONPATH head:\", sys.path[:3])\n",
    "\n",
    "# Show the first lines of the helper you just edited\n",
    "print(\"KV HEAD:\", inspect.getsource(jp._anno_kv).splitlines()[:8])\n",
    "\n",
    "# Optional: add a signature string in your file and read it\n",
    "print(\"SIGNATURE:\", getattr(jp, \"SIGNATURE\", \"<none>\"))\n"
   ]
  },
  {
   "cell_type": "code",
   "execution_count": 24,
   "id": "f44cf5e3",
   "metadata": {},
   "outputs": [
    {
     "name": "stdout",
     "output_type": "stream",
     "text": [
      "Type: ProductController\n",
      "  Method: addProduct\n",
      "@PostMapping member= None value= None element= Literal(postfix_operators=[], prefix_operators=[], qualifier=None, selectors=[], value=\"/addingProduct\")\n",
      "  Method: updateProduct\n",
      "@GetMapping member= None value= None element= Literal(postfix_operators=[], prefix_operators=[], qualifier=None, selectors=[], value=\"/updatingProduct/{productId}\")\n",
      "  Method: delete\n",
      "@GetMapping member= None value= None element= Literal(postfix_operators=[], prefix_operators=[], qualifier=None, selectors=[], value=\"/deleteProduct/{productId}\")\n"
     ]
    }
   ],
   "source": [
    "import javalang, sys\n",
    "src = open(\"/Users/saichaitanyadarla/Documents/java/FoodFrenzy/src/main/java/com/example/demo/controllers/ProductController.java\").read()\n",
    "tree = javalang.parse.parse(src)\n",
    "\n",
    "for t in tree.types:\n",
    "    print(\"Type:\", t.name)\n",
    "    for m in getattr(t, \"methods\", []):\n",
    "        print(\"  Method:\", m.name)\n",
    "        for a in (m.annotations or []):\n",
    "            print(\"@\" + getattr(a, \"name\", \"?\"),\n",
    "                  \"member=\", getattr(a, \"member\", None),\n",
    "                  \"value=\", getattr(a, \"value\", None),\n",
    "                  \"element=\", getattr(a, \"element\", None))\n"
   ]
  }
 ],
 "metadata": {
  "kernelspec": {
   "display_name": ".venv",
   "language": "python",
   "name": "python3"
  },
  "language_info": {
   "codemirror_mode": {
    "name": "ipython",
    "version": 3
   },
   "file_extension": ".py",
   "mimetype": "text/x-python",
   "name": "python",
   "nbconvert_exporter": "python",
   "pygments_lexer": "ipython3",
   "version": "3.13.6"
  }
 },
 "nbformat": 4,
 "nbformat_minor": 5
}
